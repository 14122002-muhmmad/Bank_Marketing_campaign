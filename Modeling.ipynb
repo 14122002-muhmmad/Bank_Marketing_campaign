{
 "cells": [
  {
   "cell_type": "code",
   "execution_count": 17,
   "metadata": {},
   "outputs": [],
   "source": [
    "import numpy as np\n",
    "import pandas as pd \n",
    "import matplotlib.pyplot as plt \n",
    "import seaborn as sns\n",
    "import plotly.express as px\n",
    "from sklearn.model_selection import train_test_split\n",
    "from sklearn.linear_model import LogisticRegression\n",
    "from sklearn.metrics import accuracy_score, confusion_matrix, classification_report\n",
    "from sklearn.preprocessing import RobustScaler\n",
    "from sklearn.ensemble import RandomForestClassifier\n",
    "from sklearn.svm import SVC\n",
    "from sklearn.tree import DecisionTreeClassifier\n",
    "from sklearn.neighbors import KNeighborsClassifier\n",
    "from sklearn.model_selection import cross_val_score\n",
    "from sklearn.model_selection import GridSearchCV\n",
    "import xgboost as xgb   \n",
    "from xgboost import XGBClassifier\n",
    "from sklearn.ensemble import GradientBoostingClassifier\n",
    "from sklearn.ensemble import AdaBoostClassifier\n",
    "from sklearn.ensemble import BaggingClassifier\n",
    "from sklearn.compose import ColumnTransformer\n",
    "from sklearn.preprocessing import OrdinalEncoder, OneHotEncoder, StandardScaler,RobustScaler\n",
    "from sklearn.pipeline import Pipeline\n",
    "from sklearn.impute import SimpleImputer\n",
    "from sklearn.preprocessing import LabelEncoder\n",
    "from imblearn.over_sampling import SMOTE\n",
    "from imblearn.under_sampling import RandomUnderSampler\n",
    "import pickle\n"
   ]
  },
  {
   "cell_type": "code",
   "execution_count": 4,
   "metadata": {},
   "outputs": [
    {
     "name": "stderr",
     "output_type": "stream",
     "text": [
      "WARNING: requirements.txt already exists, use --force to overwrite it\n"
     ]
    }
   ],
   "source": [
    "!pipreqs ."
   ]
  },
  {
   "cell_type": "code",
   "execution_count": 1,
   "metadata": {},
   "outputs": [
    {
     "name": "stdout",
     "output_type": "stream",
     "text": [
      "1.0.2\n"
     ]
    }
   ],
   "source": [
    "import sklearn\n",
    "print(sklearn.__version__)"
   ]
  },
  {
   "cell_type": "code",
   "execution_count": 5,
   "metadata": {},
   "outputs": [
    {
     "name": "stdout",
     "output_type": "stream",
     "text": [
      "Requirement already satisfied: pip in c:\\users\\fg\\anaconda3\\lib\\site-packages (24.0)\n"
     ]
    }
   ],
   "source": [
    "!pip install --upgrade pip"
   ]
  },
  {
   "cell_type": "code",
   "execution_count": 6,
   "metadata": {},
   "outputs": [
    {
     "name": "stderr",
     "output_type": "stream",
     "text": [
      "WARNING: Import named \"Pillow\" not found locally. Trying to resolve it at the PyPI server.\n",
      "WARNING: Import named \"Pillow\" was resolved to \"pillow:10.4.0\" package (https://pypi.org/project/pillow/).\n",
      "Please, verify manually the final list of requirements.txt to avoid possible dependency confusions.\n",
      "WARNING: Import named \"Requests\" not found locally. Trying to resolve it at the PyPI server.\n",
      "WARNING: Import named \"Requests\" was resolved to \"requests:2.32.3\" package (https://pypi.org/project/requests/).\n",
      "Please, verify manually the final list of requirements.txt to avoid possible dependency confusions.\n",
      "INFO: Successfully saved requirements file in g:\\Machine_learning\\Final_Project\\Bank_Marketing\\requirements.txt\n"
     ]
    }
   ],
   "source": [
    "!pipreqs"
   ]
  },
  {
   "cell_type": "markdown",
   "metadata": {},
   "source": [
    "Reading Data Cleaned"
   ]
  },
  {
   "cell_type": "code",
   "execution_count": 3,
   "metadata": {},
   "outputs": [
    {
     "data": {
      "text/html": [
       "<div>\n",
       "<style scoped>\n",
       "    .dataframe tbody tr th:only-of-type {\n",
       "        vertical-align: middle;\n",
       "    }\n",
       "\n",
       "    .dataframe tbody tr th {\n",
       "        vertical-align: top;\n",
       "    }\n",
       "\n",
       "    .dataframe thead th {\n",
       "        text-align: right;\n",
       "    }\n",
       "</style>\n",
       "<table border=\"1\" class=\"dataframe\">\n",
       "  <thead>\n",
       "    <tr style=\"text-align: right;\">\n",
       "      <th></th>\n",
       "      <th>age</th>\n",
       "      <th>job</th>\n",
       "      <th>marital</th>\n",
       "      <th>education</th>\n",
       "      <th>balance</th>\n",
       "      <th>housing</th>\n",
       "      <th>loan</th>\n",
       "      <th>last_contact_day</th>\n",
       "      <th>month</th>\n",
       "      <th>duration</th>\n",
       "      <th>campaign</th>\n",
       "      <th>deposit</th>\n",
       "    </tr>\n",
       "  </thead>\n",
       "  <tbody>\n",
       "    <tr>\n",
       "      <th>0</th>\n",
       "      <td>55</td>\n",
       "      <td>management</td>\n",
       "      <td>married</td>\n",
       "      <td>primary</td>\n",
       "      <td>3293</td>\n",
       "      <td>0</td>\n",
       "      <td>0</td>\n",
       "      <td>30</td>\n",
       "      <td>jul</td>\n",
       "      <td>64</td>\n",
       "      <td>2</td>\n",
       "      <td>0</td>\n",
       "    </tr>\n",
       "    <tr>\n",
       "      <th>1</th>\n",
       "      <td>24</td>\n",
       "      <td>blue-collar</td>\n",
       "      <td>single</td>\n",
       "      <td>secondary</td>\n",
       "      <td>167</td>\n",
       "      <td>0</td>\n",
       "      <td>1</td>\n",
       "      <td>18</td>\n",
       "      <td>feb</td>\n",
       "      <td>134</td>\n",
       "      <td>2</td>\n",
       "      <td>1</td>\n",
       "    </tr>\n",
       "    <tr>\n",
       "      <th>2</th>\n",
       "      <td>50</td>\n",
       "      <td>technician</td>\n",
       "      <td>divorced</td>\n",
       "      <td>secondary</td>\n",
       "      <td>0</td>\n",
       "      <td>0</td>\n",
       "      <td>0</td>\n",
       "      <td>13</td>\n",
       "      <td>aug</td>\n",
       "      <td>114</td>\n",
       "      <td>2</td>\n",
       "      <td>0</td>\n",
       "    </tr>\n",
       "    <tr>\n",
       "      <th>3</th>\n",
       "      <td>59</td>\n",
       "      <td>retired</td>\n",
       "      <td>divorced</td>\n",
       "      <td>tertiary</td>\n",
       "      <td>3444</td>\n",
       "      <td>0</td>\n",
       "      <td>0</td>\n",
       "      <td>6</td>\n",
       "      <td>feb</td>\n",
       "      <td>241</td>\n",
       "      <td>2</td>\n",
       "      <td>1</td>\n",
       "    </tr>\n",
       "    <tr>\n",
       "      <th>4</th>\n",
       "      <td>28</td>\n",
       "      <td>admin.</td>\n",
       "      <td>single</td>\n",
       "      <td>secondary</td>\n",
       "      <td>707</td>\n",
       "      <td>1</td>\n",
       "      <td>0</td>\n",
       "      <td>25</td>\n",
       "      <td>may</td>\n",
       "      <td>226</td>\n",
       "      <td>1</td>\n",
       "      <td>1</td>\n",
       "    </tr>\n",
       "  </tbody>\n",
       "</table>\n",
       "</div>"
      ],
      "text/plain": [
       "   age          job   marital  education  balance  housing  loan  \\\n",
       "0   55   management   married    primary     3293        0     0   \n",
       "1   24  blue-collar    single  secondary      167        0     1   \n",
       "2   50   technician  divorced  secondary        0        0     0   \n",
       "3   59      retired  divorced   tertiary     3444        0     0   \n",
       "4   28       admin.    single  secondary      707        1     0   \n",
       "\n",
       "   last_contact_day month  duration  campaign  deposit  \n",
       "0                30   jul        64         2        0  \n",
       "1                18   feb       134         2        1  \n",
       "2                13   aug       114         2        0  \n",
       "3                 6   feb       241         2        1  \n",
       "4                25   may       226         1        1  "
      ]
     },
     "execution_count": 3,
     "metadata": {},
     "output_type": "execute_result"
    }
   ],
   "source": [
    "df = pd.read_csv('Bank_Marketing_Cleaned.csv')\n",
    "df.head()"
   ]
  },
  {
   "cell_type": "code",
   "execution_count": 5,
   "metadata": {},
   "outputs": [
    {
     "name": "stdout",
     "output_type": "stream",
     "text": [
      "<class 'pandas.core.frame.DataFrame'>\n",
      "RangeIndex: 44923 entries, 0 to 44922\n",
      "Data columns (total 12 columns):\n",
      " #   Column            Non-Null Count  Dtype \n",
      "---  ------            --------------  ----- \n",
      " 0   age               44923 non-null  int64 \n",
      " 1   job               44923 non-null  object\n",
      " 2   marital           44923 non-null  object\n",
      " 3   education         44923 non-null  object\n",
      " 4   balance           44923 non-null  int64 \n",
      " 5   housing           44923 non-null  int64 \n",
      " 6   loan              44923 non-null  int64 \n",
      " 7   last_contact_day  44923 non-null  int64 \n",
      " 8   month             44923 non-null  object\n",
      " 9   duration          44923 non-null  int64 \n",
      " 10  campaign          44923 non-null  int64 \n",
      " 11  deposit           44923 non-null  int64 \n",
      "dtypes: int64(8), object(4)\n",
      "memory usage: 4.1+ MB\n"
     ]
    }
   ],
   "source": [
    "df.info()"
   ]
  },
  {
   "cell_type": "markdown",
   "metadata": {},
   "source": [
    "Splitting Data into Train and Test"
   ]
  },
  {
   "cell_type": "code",
   "execution_count": 4,
   "metadata": {},
   "outputs": [],
   "source": [
    "X = df.drop('deposit', axis=1)\n",
    "y = df['deposit']"
   ]
  },
  {
   "cell_type": "code",
   "execution_count": 5,
   "metadata": {},
   "outputs": [],
   "source": [
    "X_train, X_test, y_train, y_test = train_test_split(X, y, test_size=0.2, random_state=42,stratify=y)"
   ]
  },
  {
   "cell_type": "markdown",
   "metadata": {},
   "source": [
    "Preprocessing"
   ]
  },
  {
   "cell_type": "code",
   "execution_count": 8,
   "metadata": {},
   "outputs": [],
   "source": [
    "num_cols = ['age', 'balance', 'last_contact_day', 'duration', 'campaign']\n",
    "cat_cols = ['job', 'marital', 'month','loan','housing']\n",
    "Bin_Cols = ['loan','housing']"
   ]
  },
  {
   "cell_type": "code",
   "execution_count": 6,
   "metadata": {},
   "outputs": [],
   "source": [
    "# Ordinal feature\n",
    "ordinal_cols = ['education']\n",
    "education_order = ['primary', 'secondary', 'tertiary']\n"
   ]
  },
  {
   "cell_type": "code",
   "execution_count": 9,
   "metadata": {},
   "outputs": [],
   "source": [
    "preprocessor = ColumnTransformer(\n",
    "    transformers=[\n",
    "        ('num', RobustScaler(), num_cols),\n",
    "        ('cat', OneHotEncoder(handle_unknown='ignore',sparse=False), cat_cols),\n",
    "        ('edu', OrdinalEncoder(categories=[education_order]), ordinal_cols)\n",
    "       \n",
    "    ],remainder='passthrough')\n",
    "    \n"
   ]
  },
  {
   "cell_type": "code",
   "execution_count": 10,
   "metadata": {},
   "outputs": [],
   "source": [
    "X_train_prep = preprocessor.fit_transform(X_train)"
   ]
  },
  {
   "cell_type": "code",
   "execution_count": 11,
   "metadata": {},
   "outputs": [],
   "source": [
    "num_feature_names = num_cols\n",
    "cat_feature_names = preprocessor.named_transformers_['cat'].get_feature_names_out(cat_cols)\n",
    "ord_feature_names = [f\"{col}_encoded\" for col in ordinal_cols]\n",
    "all_feature_names = num_feature_names + list(cat_feature_names) + ord_feature_names\n"
   ]
  },
  {
   "cell_type": "code",
   "execution_count": 12,
   "metadata": {},
   "outputs": [],
   "source": [
    "X_test_prep = preprocessor.transform(X_test)\n",
    "X_test_prep_df = pd.DataFrame(X_test_prep, columns=all_feature_names)"
   ]
  },
  {
   "cell_type": "code",
   "execution_count": 14,
   "metadata": {},
   "outputs": [
    {
     "data": {
      "text/html": [
       "<div>\n",
       "<style scoped>\n",
       "    .dataframe tbody tr th:only-of-type {\n",
       "        vertical-align: middle;\n",
       "    }\n",
       "\n",
       "    .dataframe tbody tr th {\n",
       "        vertical-align: top;\n",
       "    }\n",
       "\n",
       "    .dataframe thead th {\n",
       "        text-align: right;\n",
       "    }\n",
       "</style>\n",
       "<table border=\"1\" class=\"dataframe\">\n",
       "  <thead>\n",
       "    <tr style=\"text-align: right;\">\n",
       "      <th></th>\n",
       "      <th>age</th>\n",
       "      <th>balance</th>\n",
       "      <th>last_contact_day</th>\n",
       "      <th>duration</th>\n",
       "      <th>campaign</th>\n",
       "      <th>job_admin.</th>\n",
       "      <th>job_blue-collar</th>\n",
       "      <th>job_entrepreneur</th>\n",
       "      <th>job_housemaid</th>\n",
       "      <th>job_management</th>\n",
       "      <th>...</th>\n",
       "      <th>month_mar</th>\n",
       "      <th>month_may</th>\n",
       "      <th>month_nov</th>\n",
       "      <th>month_oct</th>\n",
       "      <th>month_sep</th>\n",
       "      <th>loan_0</th>\n",
       "      <th>loan_1</th>\n",
       "      <th>housing_0</th>\n",
       "      <th>housing_1</th>\n",
       "      <th>education_encoded</th>\n",
       "    </tr>\n",
       "  </thead>\n",
       "  <tbody>\n",
       "    <tr>\n",
       "      <th>0</th>\n",
       "      <td>0.800000</td>\n",
       "      <td>1.535874</td>\n",
       "      <td>-0.307692</td>\n",
       "      <td>-0.381395</td>\n",
       "      <td>1.5</td>\n",
       "      <td>0.0</td>\n",
       "      <td>0.0</td>\n",
       "      <td>0.0</td>\n",
       "      <td>0.0</td>\n",
       "      <td>0.0</td>\n",
       "      <td>...</td>\n",
       "      <td>0.0</td>\n",
       "      <td>1.0</td>\n",
       "      <td>0.0</td>\n",
       "      <td>0.0</td>\n",
       "      <td>0.0</td>\n",
       "      <td>1.0</td>\n",
       "      <td>0.0</td>\n",
       "      <td>0.0</td>\n",
       "      <td>1.0</td>\n",
       "      <td>0.0</td>\n",
       "    </tr>\n",
       "    <tr>\n",
       "      <th>1</th>\n",
       "      <td>0.133333</td>\n",
       "      <td>2.549327</td>\n",
       "      <td>0.230769</td>\n",
       "      <td>2.218605</td>\n",
       "      <td>0.0</td>\n",
       "      <td>1.0</td>\n",
       "      <td>0.0</td>\n",
       "      <td>0.0</td>\n",
       "      <td>0.0</td>\n",
       "      <td>0.0</td>\n",
       "      <td>...</td>\n",
       "      <td>0.0</td>\n",
       "      <td>1.0</td>\n",
       "      <td>0.0</td>\n",
       "      <td>0.0</td>\n",
       "      <td>0.0</td>\n",
       "      <td>1.0</td>\n",
       "      <td>0.0</td>\n",
       "      <td>0.0</td>\n",
       "      <td>1.0</td>\n",
       "      <td>1.0</td>\n",
       "    </tr>\n",
       "    <tr>\n",
       "      <th>2</th>\n",
       "      <td>0.200000</td>\n",
       "      <td>-0.896114</td>\n",
       "      <td>-1.076923</td>\n",
       "      <td>0.613953</td>\n",
       "      <td>-0.5</td>\n",
       "      <td>0.0</td>\n",
       "      <td>1.0</td>\n",
       "      <td>0.0</td>\n",
       "      <td>0.0</td>\n",
       "      <td>0.0</td>\n",
       "      <td>...</td>\n",
       "      <td>0.0</td>\n",
       "      <td>0.0</td>\n",
       "      <td>0.0</td>\n",
       "      <td>0.0</td>\n",
       "      <td>0.0</td>\n",
       "      <td>0.0</td>\n",
       "      <td>1.0</td>\n",
       "      <td>0.0</td>\n",
       "      <td>1.0</td>\n",
       "      <td>1.0</td>\n",
       "    </tr>\n",
       "    <tr>\n",
       "      <th>3</th>\n",
       "      <td>0.866667</td>\n",
       "      <td>2.090433</td>\n",
       "      <td>-0.230769</td>\n",
       "      <td>-0.348837</td>\n",
       "      <td>-0.5</td>\n",
       "      <td>0.0</td>\n",
       "      <td>0.0</td>\n",
       "      <td>0.0</td>\n",
       "      <td>0.0</td>\n",
       "      <td>0.0</td>\n",
       "      <td>...</td>\n",
       "      <td>0.0</td>\n",
       "      <td>1.0</td>\n",
       "      <td>0.0</td>\n",
       "      <td>0.0</td>\n",
       "      <td>0.0</td>\n",
       "      <td>1.0</td>\n",
       "      <td>0.0</td>\n",
       "      <td>0.0</td>\n",
       "      <td>1.0</td>\n",
       "      <td>1.0</td>\n",
       "    </tr>\n",
       "    <tr>\n",
       "      <th>4</th>\n",
       "      <td>1.266667</td>\n",
       "      <td>3.308670</td>\n",
       "      <td>-0.153846</td>\n",
       "      <td>-0.218605</td>\n",
       "      <td>0.0</td>\n",
       "      <td>0.0</td>\n",
       "      <td>1.0</td>\n",
       "      <td>0.0</td>\n",
       "      <td>0.0</td>\n",
       "      <td>0.0</td>\n",
       "      <td>...</td>\n",
       "      <td>0.0</td>\n",
       "      <td>1.0</td>\n",
       "      <td>0.0</td>\n",
       "      <td>0.0</td>\n",
       "      <td>0.0</td>\n",
       "      <td>1.0</td>\n",
       "      <td>0.0</td>\n",
       "      <td>0.0</td>\n",
       "      <td>1.0</td>\n",
       "      <td>1.0</td>\n",
       "    </tr>\n",
       "  </tbody>\n",
       "</table>\n",
       "<p>5 rows × 36 columns</p>\n",
       "</div>"
      ],
      "text/plain": [
       "        age   balance  last_contact_day  duration  campaign  job_admin.  \\\n",
       "0  0.800000  1.535874         -0.307692 -0.381395       1.5         0.0   \n",
       "1  0.133333  2.549327          0.230769  2.218605       0.0         1.0   \n",
       "2  0.200000 -0.896114         -1.076923  0.613953      -0.5         0.0   \n",
       "3  0.866667  2.090433         -0.230769 -0.348837      -0.5         0.0   \n",
       "4  1.266667  3.308670         -0.153846 -0.218605       0.0         0.0   \n",
       "\n",
       "   job_blue-collar  job_entrepreneur  job_housemaid  job_management  ...  \\\n",
       "0              0.0               0.0            0.0             0.0  ...   \n",
       "1              0.0               0.0            0.0             0.0  ...   \n",
       "2              1.0               0.0            0.0             0.0  ...   \n",
       "3              0.0               0.0            0.0             0.0  ...   \n",
       "4              1.0               0.0            0.0             0.0  ...   \n",
       "\n",
       "   month_mar  month_may  month_nov  month_oct  month_sep  loan_0  loan_1  \\\n",
       "0        0.0        1.0        0.0        0.0        0.0     1.0     0.0   \n",
       "1        0.0        1.0        0.0        0.0        0.0     1.0     0.0   \n",
       "2        0.0        0.0        0.0        0.0        0.0     0.0     1.0   \n",
       "3        0.0        1.0        0.0        0.0        0.0     1.0     0.0   \n",
       "4        0.0        1.0        0.0        0.0        0.0     1.0     0.0   \n",
       "\n",
       "   housing_0  housing_1  education_encoded  \n",
       "0        0.0        1.0                0.0  \n",
       "1        0.0        1.0                1.0  \n",
       "2        0.0        1.0                1.0  \n",
       "3        0.0        1.0                1.0  \n",
       "4        0.0        1.0                1.0  \n",
       "\n",
       "[5 rows x 36 columns]"
      ]
     },
     "execution_count": 14,
     "metadata": {},
     "output_type": "execute_result"
    }
   ],
   "source": [
    "X_test_prep_df.head()"
   ]
  },
  {
   "cell_type": "markdown",
   "metadata": {},
   "source": [
    "Handling imbalance"
   ]
  },
  {
   "cell_type": "markdown",
   "metadata": {},
   "source": [
    "Take top 3 models and try them on other imbalance methods to determine best method"
   ]
  },
  {
   "cell_type": "markdown",
   "metadata": {},
   "source": [
    "Top 3 are Random forest classifier ,AdaboostClassifier and XGboost Classifier"
   ]
  },
  {
   "cell_type": "markdown",
   "metadata": {},
   "source": [
    "wil use mix between undersampling and SMOTE"
   ]
  },
  {
   "cell_type": "code",
   "execution_count": 13,
   "metadata": {},
   "outputs": [
    {
     "data": {
      "text/plain": [
       "0    8408\n",
       "1    4204\n",
       "Name: deposit, dtype: int64"
      ]
     },
     "execution_count": 13,
     "metadata": {},
     "output_type": "execute_result"
    }
   ],
   "source": [
    "rus = RandomUnderSampler(sampling_strategy=0.5)\n",
    "X_train_under,y_train_under  = rus.fit_resample(X_train_prep, y_train)\n",
    "y_train_under.value_counts()\n"
   ]
  },
  {
   "cell_type": "code",
   "execution_count": 14,
   "metadata": {},
   "outputs": [
    {
     "data": {
      "text/plain": [
       "0    8408\n",
       "1    6726\n",
       "Name: deposit, dtype: int64"
      ]
     },
     "execution_count": 14,
     "metadata": {},
     "output_type": "execute_result"
    }
   ],
   "source": [
    "smote = SMOTE(sampling_strategy=0.8)\n",
    "X_train_mix, y_train_mix = smote.fit_resample(X_train_under, y_train_under)\n",
    "X_train_mix_df = pd.DataFrame(X_train_mix, columns=all_feature_names)\n",
    "y_train_mix.value_counts()"
   ]
  },
  {
   "cell_type": "code",
   "execution_count": 15,
   "metadata": {},
   "outputs": [
    {
     "name": "stdout",
     "output_type": "stream",
     "text": [
      "[0.84704328 0.8410968  0.83448959 0.89494549 0.90879048]\n",
      "0.8652731278812344\n"
     ]
    }
   ],
   "source": [
    "model = RandomForestClassifier(random_state=42)\n",
    "scores = cross_val_score(model, X_train_mix, y_train_mix, cv=5, scoring='accuracy')\n",
    "print(scores)\n",
    "print(scores.mean())"
   ]
  },
  {
   "cell_type": "code",
   "execution_count": 18,
   "metadata": {},
   "outputs": [
    {
     "name": "stdout",
     "output_type": "stream",
     "text": [
      "[0.83481995 0.83647175 0.83052527 0.89924017 0.9150694 ]\n",
      "0.8632253101683875\n"
     ]
    }
   ],
   "source": [
    "model = XGBClassifier(random_state=42)\n",
    "scores = cross_val_score(model, X_train_mix, y_train_mix, cv=5, scoring='accuracy')\n",
    "print(scores)\n",
    "print(scores.mean())"
   ]
  },
  {
   "cell_type": "code",
   "execution_count": 19,
   "metadata": {},
   "outputs": [
    {
     "name": "stdout",
     "output_type": "stream",
     "text": [
      "[0.79814998 0.80145358 0.79649818 0.85563264 0.86682089]\n",
      "0.8237110552286527\n"
     ]
    }
   ],
   "source": [
    "model = AdaBoostClassifier(random_state=42)\n",
    "scores = cross_val_score(model, X_train_mix, y_train_mix, cv=5, scoring='accuracy')\n",
    "print(scores)\n",
    "print(scores.mean())"
   ]
  },
  {
   "cell_type": "markdown",
   "metadata": {},
   "source": [
    "Random Under Sampling"
   ]
  },
  {
   "cell_type": "code",
   "execution_count": 20,
   "metadata": {},
   "outputs": [
    {
     "data": {
      "text/plain": [
       "0    8408\n",
       "1    4204\n",
       "Name: deposit, dtype: int64"
      ]
     },
     "execution_count": 20,
     "metadata": {},
     "output_type": "execute_result"
    }
   ],
   "source": [
    "rus = RandomUnderSampler(sampling_strategy=0.5)\n",
    "X_train_under,y_train_under  = rus.fit_resample(X_train_prep, y_train)\n",
    "X_train_under_df = pd.DataFrame(X_train_under, columns=all_feature_names)\n",
    "y_train_under.value_counts()"
   ]
  },
  {
   "cell_type": "markdown",
   "metadata": {},
   "source": [
    "Random Forest Classifier"
   ]
  },
  {
   "cell_type": "code",
   "execution_count": 101,
   "metadata": {},
   "outputs": [
    {
     "name": "stdout",
     "output_type": "stream",
     "text": [
      "scores: [0.80578676 0.80539041 0.81284695 0.80927835 0.79500397]\n",
      "mean score: 0.8056612865051518\n"
     ]
    }
   ],
   "source": [
    "model = RandomForestClassifier()\n",
    "scores = cross_val_score(model, X_train_under, y_train_under, cv=5, scoring='accuracy')\n",
    "print('scores:', scores)\n",
    "print('mean score:', scores.mean())"
   ]
  },
  {
   "cell_type": "markdown",
   "metadata": {},
   "source": [
    "XGBoost Classifier"
   ]
  },
  {
   "cell_type": "code",
   "execution_count": 102,
   "metadata": {},
   "outputs": [
    {
     "name": "stdout",
     "output_type": "stream",
     "text": [
      "scores: [0.81093936 0.8045977  0.80293418 0.80333069 0.79896907]\n",
      "mean score: 0.8041542000746187\n"
     ]
    }
   ],
   "source": [
    "model = XGBClassifier()\n",
    "scores = cross_val_score(model, X_train_under, y_train_under, cv=5, scoring='accuracy')\n",
    "print('scores:', scores)\n",
    "print('mean score:', scores.mean())"
   ]
  },
  {
   "cell_type": "markdown",
   "metadata": {},
   "source": [
    "AdaBoost Classifier"
   ]
  },
  {
   "cell_type": "code",
   "execution_count": 103,
   "metadata": {},
   "outputs": [
    {
     "name": "stdout",
     "output_type": "stream",
     "text": [
      "scores: [0.79706698 0.80618312 0.79698652 0.80095163 0.78429818]\n",
      "mean score: 0.7970972838938074\n"
     ]
    }
   ],
   "source": [
    "model = AdaBoostClassifier()\n",
    "scores = cross_val_score(model, X_train_under, y_train_under, cv=5, scoring='accuracy')\n",
    "print('scores:', scores)\n",
    "print('mean score:', scores.mean())\n"
   ]
  },
  {
   "cell_type": "markdown",
   "metadata": {},
   "source": [
    "OverSmapling(Smote)"
   ]
  },
  {
   "cell_type": "code",
   "execution_count": 21,
   "metadata": {},
   "outputs": [
    {
     "data": {
      "text/plain": [
       "0    31734\n",
       "1    31416\n",
       "Name: deposit, dtype: int64"
      ]
     },
     "execution_count": 21,
     "metadata": {},
     "output_type": "execute_result"
    }
   ],
   "source": [
    "smote = SMOTE(sampling_strategy=0.99)\n",
    "X_train_smoten,y_train_smoten  = smote.fit_resample(X_train_prep, y_train)\n",
    "X_train_smoten_df = pd.DataFrame(X_train_smoten, columns=all_feature_names)\n",
    "y_train_smoten.value_counts()"
   ]
  },
  {
   "cell_type": "markdown",
   "metadata": {},
   "source": [
    "Random forest Classifier"
   ]
  },
  {
   "cell_type": "code",
   "execution_count": 22,
   "metadata": {},
   "outputs": [
    {
     "name": "stdout",
     "output_type": "stream",
     "text": [
      "scores: [0.88186857 0.95645289 0.9608076  0.96326207 0.95938242]\n",
      "mean score: 0.9443547110055424\n"
     ]
    }
   ],
   "source": [
    "model = RandomForestClassifier()\n",
    "scores = cross_val_score(model, X_train_smoten, y_train_smoten, cv=5, scoring='accuracy')\n",
    "print('scores:', scores)\n",
    "print('mean score:', scores.mean())"
   ]
  },
  {
   "cell_type": "markdown",
   "metadata": {},
   "source": [
    "XGBoost Classifier"
   ]
  },
  {
   "cell_type": "code",
   "execution_count": 159,
   "metadata": {},
   "outputs": [
    {
     "name": "stdout",
     "output_type": "stream",
     "text": [
      "scores: [0.6935867  0.96785432 0.96761679 0.97212985 0.96872526]\n",
      "mean score: 0.9139825811559777\n"
     ]
    }
   ],
   "source": [
    "model = XGBClassifier()\n",
    "scores = cross_val_score(model, X_train_smoten, y_train_smoten, cv=5, scoring='accuracy')\n",
    "print('scores:', scores)\n",
    "print('mean score:', scores.mean())"
   ]
  },
  {
   "cell_type": "markdown",
   "metadata": {},
   "source": [
    "Adaboost Classifer"
   ]
  },
  {
   "cell_type": "code",
   "execution_count": 160,
   "metadata": {},
   "outputs": [
    {
     "name": "stdout",
     "output_type": "stream",
     "text": [
      "scores: [0.80364212 0.87537609 0.88202692 0.89105305 0.88131433]\n",
      "mean score: 0.8666825019794141\n"
     ]
    }
   ],
   "source": [
    "model = AdaBoostClassifier()\n",
    "scores = cross_val_score(model, X_train_smoten, y_train_smoten, cv=5, scoring='accuracy')\n",
    "print('scores:', scores)\n",
    "print('mean score:', scores.mean())"
   ]
  },
  {
   "cell_type": "markdown",
   "metadata": {},
   "source": [
    "There is significant improvement using smoten only"
   ]
  },
  {
   "cell_type": "markdown",
   "metadata": {},
   "source": [
    "Now use grid search for Hyperparameter tuning"
   ]
  },
  {
   "cell_type": "markdown",
   "metadata": {},
   "source": [
    "Randomm Forest Classifier"
   ]
  },
  {
   "cell_type": "code",
   "execution_count": 24,
   "metadata": {},
   "outputs": [
    {
     "name": "stdout",
     "output_type": "stream",
     "text": [
      "{'max_depth': 40, 'max_features': 'log2', 'min_samples_split': 2, 'n_estimators': 100}\n",
      "0.9454315122723674\n"
     ]
    }
   ],
   "source": [
    "grid_param = { \n",
    "    'n_estimators': [50,100],\n",
    "    'max_depth' : [20, 30, 40],\n",
    "    'min_samples_split': [2],\n",
    "    'max_features': ['sqrt', 'log2'],\n",
    "}\n",
    "grid_search = GridSearchCV(RandomForestClassifier(), grid_param, cv=5,scoring='accuracy')\n",
    "grid_search.fit(X_train_smoten, y_train_smoten)\n",
    "print(grid_search.best_params_)\n",
    "print(grid_search.best_score_)"
   ]
  },
  {
   "cell_type": "code",
   "execution_count": 162,
   "metadata": {},
   "outputs": [
    {
     "name": "stdout",
     "output_type": "stream",
     "text": [
      "{'max_depth': 80, 'min_samples_split': 2, 'n_estimators': 200}\n",
      "0.944418052256532\n"
     ]
    }
   ],
   "source": [
    "grid_param = { \n",
    "    'n_estimators': [200],\n",
    "    'max_depth' : [70,80,90],\n",
    "    'min_samples_split': [2, 4],\n",
    "}\n",
    "grid_search = GridSearchCV(RandomForestClassifier(), grid_param, cv=5,scoring='accuracy')\n",
    "grid_search.fit(X_train_smoten, y_train_smoten)\n",
    "print(grid_search.best_params_)\n",
    "print(grid_search.best_score_)"
   ]
  },
  {
   "cell_type": "markdown",
   "metadata": {},
   "source": [
    "XGboost Classifier"
   ]
  },
  {
   "cell_type": "code",
   "execution_count": 62,
   "metadata": {},
   "outputs": [
    {
     "name": "stdout",
     "output_type": "stream",
     "text": [
      "{'learning_rate': 0.01, 'max_depth': 20, 'n_estimators': 100}\n",
      "0.9270741433670702\n"
     ]
    }
   ],
   "source": [
    "grid_param = {\n",
    "    'n_estimators': [100,],\n",
    "    'max_depth': [10,20,30],\n",
    "    'learning_rate': [0.01, 0.1, 0.2]\n",
    "  \n",
    "}\n",
    "grid_search = GridSearchCV(XGBClassifier(), grid_param, cv=5,scoring='accuracy')\n",
    "grid_search.fit(X_train_smoten, y_train_smoten)\n",
    "print(grid_search.best_params_)\n",
    "print(grid_search.best_score_)"
   ]
  },
  {
   "cell_type": "markdown",
   "metadata": {},
   "source": [
    "as we have seen random forest was the best , but we will tune parameters to avoid overfitting even after grid_search\n",
    "\n"
   ]
  },
  {
   "cell_type": "code",
   "execution_count": 74,
   "metadata": {},
   "outputs": [
    {
     "name": "stdout",
     "output_type": "stream",
     "text": [
      "Accuracy: 0.8505286588759042\n",
      "Confusion Matrix:\n",
      "[[6876 1058]\n",
      " [ 285  766]]\n",
      "Classification Report:\n",
      "              precision    recall  f1-score   support\n",
      "\n",
      "           0       0.96      0.87      0.91      7934\n",
      "           1       0.42      0.73      0.53      1051\n",
      "\n",
      "    accuracy                           0.85      8985\n",
      "   macro avg       0.69      0.80      0.72      8985\n",
      "weighted avg       0.90      0.85      0.87      8985\n",
      "\n"
     ]
    }
   ],
   "source": [
    "model = RandomForestClassifier(class_weight='balanced',n_estimators=40, max_depth=15, min_samples_split=6,max_features='log2',bootstrap=True,max_samples=0.1)\n",
    "model.fit(X_train_smoten, y_train_smoten)\n",
    "y_pred = model.predict(X_test_prep)\n",
    "accuracy = accuracy_score(y_test, y_pred)\n",
    "print('Accuracy:', accuracy)\n",
    "print('Confusion Matrix:')\n",
    "print(confusion_matrix(y_test, y_pred))\n",
    "print('Classification Report:')\n",
    "print(classification_report(y_test, y_pred))\n"
   ]
  },
  {
   "cell_type": "markdown",
   "metadata": {},
   "source": [
    "Check Overfitting "
   ]
  },
  {
   "cell_type": "code",
   "execution_count": 75,
   "metadata": {},
   "outputs": [
    {
     "name": "stdout",
     "output_type": "stream",
     "text": [
      "Accuracy: 0.9061124307205067\n",
      "Accuracy: 0.8505286588759042\n"
     ]
    }
   ],
   "source": [
    "y_train_pred = model.predict(X_train_smoten)\n",
    "accuracy = accuracy_score(y_train_smoten, y_train_pred)\n",
    "print('Accuracy:', accuracy)\n",
    "y_test_pred = model.predict(X_test_prep)\n",
    "accuracy = accuracy_score(y_test, y_test_pred)\n",
    "print('Accuracy:', accuracy)\n",
    "\n"
   ]
  },
  {
   "cell_type": "markdown",
   "metadata": {},
   "source": [
    "There is overfitting and that's because using Random Forest Classifier"
   ]
  },
  {
   "cell_type": "markdown",
   "metadata": {},
   "source": [
    "And now we are looking for Recal score so should be improved"
   ]
  },
  {
   "cell_type": "code",
   "execution_count": 78,
   "metadata": {},
   "outputs": [
    {
     "name": "stdout",
     "output_type": "stream",
     "text": [
      "Accuracy: 0.8504173622704507\n",
      "Confusion Matrix:\n",
      "[[6863 1071]\n",
      " [ 273  778]]\n",
      "Classification Report:\n",
      "              precision    recall  f1-score   support\n",
      "\n",
      "           0       0.96      0.87      0.91      7934\n",
      "           1       0.42      0.74      0.54      1051\n",
      "\n",
      "    accuracy                           0.85      8985\n",
      "   macro avg       0.69      0.80      0.72      8985\n",
      "weighted avg       0.90      0.85      0.87      8985\n",
      "\n"
     ]
    }
   ],
   "source": [
    "model = RandomForestClassifier(class_weight='balanced',n_estimators=40, max_depth=15, min_samples_split=6,max_features='log2',bootstrap=True,max_samples=0.1)\n",
    "model.fit(X_train_smoten, y_train_smoten)\n",
    "y_pred = model.predict(X_test_prep)\n",
    "accuracy = accuracy_score(y_test, y_pred)\n",
    "print('Accuracy:', accuracy)\n",
    "print('Confusion Matrix:')\n",
    "print(confusion_matrix(y_test, y_pred))\n",
    "print('Classification Report:')\n",
    "print(classification_report(y_test, y_pred))\n"
   ]
  },
  {
   "cell_type": "code",
   "execution_count": 85,
   "metadata": {},
   "outputs": [
    {
     "data": {
      "image/png": "[encoded data removed]",
      "text/plain": [
       "<Figure size 432x288 with 1 Axes>"
      ]
     },
     "metadata": {
      "needs_background": "light"
     },
     "output_type": "display_data"
    }
   ],
   "source": [
    "from sklearn.metrics import precision_recall_curve\n",
    "y_prob = model.predict_proba(X_test_prep)[:,1]\n",
    "precision, recall, thresholds = precision_recall_curve(y_test, y_prob)\n",
    "plt.plot(thresholds, precision[:-1], label='precision',color='r')\n",
    "plt.plot(thresholds, recall[:-1], label='recall',color='b')\n",
    "plt.title('Precision-Recall Curve')\n",
    "plt.xlabel('Threshold')\n",
    "plt.ylabel('Score')\n",
    "plt.legend()\n",
    "plt.grid(True)\n",
    "plt.show()\n"
   ]
  },
  {
   "cell_type": "code",
   "execution_count": 79,
   "metadata": {},
   "outputs": [
    {
     "name": "stdout",
     "output_type": "stream",
     "text": [
      "              precision    recall  f1-score   support\n",
      "\n",
      "           0       0.97      0.84      0.90      7934\n",
      "           1       0.40      0.80      0.53      1051\n",
      "\n",
      "    accuracy                           0.84      8985\n",
      "   macro avg       0.69      0.82      0.72      8985\n",
      "weighted avg       0.90      0.84      0.86      8985\n",
      "\n",
      "[[6678 1256]\n",
      " [ 211  840]]\n"
     ]
    }
   ],
   "source": [
    "threshold = 0.45\n",
    "predicted_proba = model.predict_proba(X_test_prep)\n",
    "predicted = (predicted_proba [:,1] >= threshold).astype('int')\n",
    "print(classification_report(y_test, predicted))\n",
    "print(confusion_matrix(y_test, predicted))"
   ]
  },
  {
   "cell_type": "code",
   "execution_count": 81,
   "metadata": {},
   "outputs": [],
   "source": [
    "import pickle"
   ]
  },
  {
   "cell_type": "code",
   "execution_count": 82,
   "metadata": {},
   "outputs": [],
   "source": [
    "with open('preprocessor.pkl', 'wb') as f:\n",
    "    pickle.dump(preprocessor, f)\n",
    "\n"
   ]
  },
  {
   "cell_type": "code",
   "execution_count": 84,
   "metadata": {},
   "outputs": [],
   "source": [
    "threshold = 0.45\n",
    "\n",
    "model_data = {\n",
    "    'model': model,\n",
    "    'threshold': threshold\n",
    "}\n",
    "\n",
    "filename = 'RFC3.pkl'\n",
    "with open(filename, 'wb') as file:\n",
    "    pickle.dump(model_data,file)"
   ]
  }
 ],
 "metadata": {
  "kernelspec": {
   "display_name": "base",
   "language": "python",
   "name": "python3"
  },
  "language_info": {
   "codemirror_mode": {
    "name": "ipython",
    "version": 3
   },
   "file_extension": ".py",
   "mimetype": "text/x-python",
   "name": "python",
   "nbconvert_exporter": "python",
   "pygments_lexer": "ipython3",
   "version": "3.7.6"
  }
 },
 "nbformat": 4,
 "nbformat_minor": 2
}
